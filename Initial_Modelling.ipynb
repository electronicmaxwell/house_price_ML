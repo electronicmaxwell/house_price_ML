{
 "cells": [
  {
   "cell_type": "markdown",
   "metadata": {},
   "source": [
    "# Initial Modelling for Ames Iowa Housing Dataset\n",
    "\n",
    "## Goals\n",
    "- Train models with minimally processed dataset to get understand of baseline performance\n",
    "- Identify which models seem more promising for given dataset\n",
    "\n",
    "## Imports"
   ]
  },
  {
   "cell_type": "code",
   "execution_count": 2,
   "metadata": {},
   "outputs": [
    {
     "name": "stderr",
     "output_type": "stream",
     "text": [
      "/opt/anaconda3/lib/python3.12/site-packages/dask/dataframe/_pyarrow_compat.py:15: FutureWarning: Minimal version of pyarrow will soon be increased to 14.0.1. You are using 13.0.0. Please consider upgrading.\n",
      "  warnings.warn(\n"
     ]
    }
   ],
   "source": [
    "import time\n",
    "\n",
    "import pandas as pd\n",
    "import numpy as np\n",
    "import matplotlib.pyplot as plt\n",
    "import seaborn as sns\n",
    "\n",
    "from sklearn.model_selection import KFold, cross_val_score, cross_val_predict\n",
    "from sklearn.metrics import mean_squared_error\n",
    "from sklearn.pipeline import make_pipeline\n",
    "from sklearn.preprocessing import RobustScaler\n",
    "from scipy.stats import boxcox\n",
    "\n",
    "from sklearn.linear_model import ElasticNetCV, LassoCV, RidgeCV\n",
    "from sklearn.svm import SVR\n",
    "from sklearn.ensemble import RandomForestRegressor, GradientBoostingRegressor\n",
    "from xgboost import XGBRegressor\n",
    "from lightgbm import LGBMRegressor\n",
    "\n",
    "RANDOM_SEED = 6\n"
   ]
  },
  {
   "cell_type": "markdown",
   "metadata": {},
   "source": [
    "## Reading Data"
   ]
  },
  {
   "cell_type": "code",
   "execution_count": 12,
   "metadata": {},
   "outputs": [],
   "source": [
    "train = pd.read_csv('train_processed.csv')\n",
    "test = pd.read_csv('test_processed.csv')\n",
    "\n",
    "features = train.iloc[:, :-1]\n",
    "target = train.iloc[:, -1]\n",
    "\n",
    "target_transformed = np.log1p(target)"
   ]
  },
  {
   "cell_type": "code",
   "execution_count": 4,
   "metadata": {},
   "outputs": [
    {
     "data": {
      "text/plain": [
       "((1460, 244), (1460,), (1459, 244))"
      ]
     },
     "execution_count": 4,
     "metadata": {},
     "output_type": "execute_result"
    }
   ],
   "source": [
    "features.shape, target.shape, test.shape"
   ]
  },
  {
   "cell_type": "markdown",
   "metadata": {},
   "source": [
    "## Initialising Models"
   ]
  },
  {
   "cell_type": "code",
   "execution_count": 5,
   "metadata": {},
   "outputs": [],
   "source": [
    "kfolds = KFold(n_splits=10, shuffle=True, random_state=RANDOM_SEED)\n",
    "\n",
    "ridge = make_pipeline(RobustScaler(), RidgeCV(cv=kfolds))\n",
    "lasso = make_pipeline(RobustScaler(), LassoCV(random_state=RANDOM_SEED, cv=kfolds))\n",
    "elasticnet = make_pipeline(RobustScaler(), ElasticNetCV(cv=kfolds))                                \n",
    "svr = make_pipeline(RobustScaler(), SVR())\n",
    "rfr = RandomForestRegressor(random_state=RANDOM_SEED)\n",
    "gbr = GradientBoostingRegressor(random_state=RANDOM_SEED)\n",
    "lightgbm = LGBMRegressor(random_state=RANDOM_SEED)\n",
    "xgboost = XGBRegressor(seed=RANDOM_SEED)"
   ]
  },
  {
   "cell_type": "markdown",
   "metadata": {},
   "source": [
    "## Initial Modelling\n",
    "- No hyperparameter tuning\n",
    "- Target Transformed"
   ]
  },
  {
   "cell_type": "code",
   "execution_count": null,
   "metadata": {},
   "outputs": [
    {
     "name": "stdout",
     "output_type": "stream",
     "text": [
      "Training Ridge...\n",
      "Ridge - Training completed in 1.49 seconds.\n",
      "--------------------------------------------------\n",
      "Training Lasso...\n",
      "Lasso - Training completed in 1.91 seconds.\n",
      "--------------------------------------------------\n",
      "Training ElasticNet...\n",
      "ElasticNet - Training completed in 2.23 seconds.\n",
      "--------------------------------------------------\n",
      "Training SVR...\n",
      "SVR - Training completed in 0.60 seconds.\n",
      "--------------------------------------------------\n",
      "Training RandomForest...\n",
      "RandomForest - Training completed in 10.48 seconds.\n",
      "--------------------------------------------------\n",
      "Training GradientBoostingRegressor...\n",
      "GradientBoostingRegressor - Training completed in 3.97 seconds.\n",
      "--------------------------------------------------\n",
      "Training LightGBM...\n",
      "[LightGBM] [Warning] Found whitespace in feature_names, replace with underlines\n",
      "[LightGBM] [Info] Auto-choosing row-wise multi-threading, the overhead of testing was 0.003311 seconds.\n",
      "You can set `force_row_wise=true` to remove the overhead.\n",
      "And if memory is not enough, you can set `force_col_wise=true`.\n",
      "[LightGBM] [Info] Total Bins 3315\n",
      "[LightGBM] [Info] Number of data points in the train set: 1314, number of used features: 163\n",
      "[LightGBM] [Info] Start training from score 12.022547\n",
      "[LightGBM] [Warning] Found whitespace in feature_names, replace with underlines\n",
      "[LightGBM] [Info] Auto-choosing col-wise multi-threading, the overhead of testing was 0.002891 seconds.\n",
      "You can set `force_col_wise=true` to remove the overhead.\n",
      "[LightGBM] [Info] Total Bins 3319\n",
      "[LightGBM] [Info] Number of data points in the train set: 1314, number of used features: 164\n",
      "[LightGBM] [Info] Start training from score 12.023431\n",
      "[LightGBM] [Warning] Found whitespace in feature_names, replace with underlines\n",
      "[LightGBM] [Info] Auto-choosing row-wise multi-threading, the overhead of testing was 0.002933 seconds.\n",
      "You can set `force_row_wise=true` to remove the overhead.\n",
      "And if memory is not enough, you can set `force_col_wise=true`.\n",
      "[LightGBM] [Info] Total Bins 3326\n",
      "[LightGBM] [Info] Number of data points in the train set: 1314, number of used features: 163\n",
      "[LightGBM] [Info] Start training from score 12.026992\n",
      "[LightGBM] [Warning] Found whitespace in feature_names, replace with underlines\n",
      "[LightGBM] [Info] Auto-choosing row-wise multi-threading, the overhead of testing was 0.002815 seconds.\n",
      "You can set `force_row_wise=true` to remove the overhead.\n",
      "And if memory is not enough, you can set `force_col_wise=true`.\n",
      "[LightGBM] [Info] Total Bins 3329\n",
      "[LightGBM] [Info] Number of data points in the train set: 1314, number of used features: 164\n",
      "[LightGBM] [Info] Start training from score 12.025121\n",
      "[LightGBM] [Warning] Found whitespace in feature_names, replace with underlines\n",
      "[LightGBM] [Info] Auto-choosing row-wise multi-threading, the overhead of testing was 0.003069 seconds.\n",
      "You can set `force_row_wise=true` to remove the overhead.\n",
      "And if memory is not enough, you can set `force_col_wise=true`.\n",
      "[LightGBM] [Info] Total Bins 3318\n",
      "[LightGBM] [Info] Number of data points in the train set: 1314, number of used features: 164\n",
      "[LightGBM] [Info] Start training from score 12.021541\n",
      "[LightGBM] [Warning] Found whitespace in feature_names, replace with underlines\n",
      "[LightGBM] [Info] Auto-choosing row-wise multi-threading, the overhead of testing was 0.003988 seconds.\n",
      "You can set `force_row_wise=true` to remove the overhead.\n",
      "And if memory is not enough, you can set `force_col_wise=true`.\n",
      "[LightGBM] [Info] Total Bins 3320\n",
      "[LightGBM] [Info] Number of data points in the train set: 1314, number of used features: 163\n",
      "[LightGBM] [Info] Start training from score 12.024065\n",
      "[LightGBM] [Warning] Found whitespace in feature_names, replace with underlines\n",
      "[LightGBM] [Info] Auto-choosing row-wise multi-threading, the overhead of testing was 0.002691 seconds.\n",
      "You can set `force_row_wise=true` to remove the overhead.\n",
      "And if memory is not enough, you can set `force_col_wise=true`.\n",
      "[LightGBM] [Info] Total Bins 3309\n",
      "[LightGBM] [Info] Number of data points in the train set: 1314, number of used features: 163\n",
      "[LightGBM] [Info] Start training from score 12.024495\n",
      "[LightGBM] [Warning] Found whitespace in feature_names, replace with underlines\n",
      "[LightGBM] [Info] Auto-choosing row-wise multi-threading, the overhead of testing was 0.002793 seconds.\n",
      "You can set `force_row_wise=true` to remove the overhead.\n",
      "And if memory is not enough, you can set `force_col_wise=true`.\n",
      "[LightGBM] [Info] Total Bins 3240\n",
      "[LightGBM] [Info] Number of data points in the train set: 1314, number of used features: 164\n",
      "[LightGBM] [Info] Start training from score 12.023536\n",
      "[LightGBM] [Warning] Found whitespace in feature_names, replace with underlines\n",
      "[LightGBM] [Info] Auto-choosing row-wise multi-threading, the overhead of testing was 0.003909 seconds.\n",
      "You can set `force_row_wise=true` to remove the overhead.\n",
      "And if memory is not enough, you can set `force_col_wise=true`.\n",
      "[LightGBM] [Info] Total Bins 3315\n",
      "[LightGBM] [Info] Number of data points in the train set: 1314, number of used features: 163\n",
      "[LightGBM] [Info] Start training from score 12.022682\n",
      "[LightGBM] [Warning] Found whitespace in feature_names, replace with underlines\n",
      "[LightGBM] [Info] Auto-choosing row-wise multi-threading, the overhead of testing was 0.003046 seconds.\n",
      "You can set `force_row_wise=true` to remove the overhead.\n",
      "And if memory is not enough, you can set `force_col_wise=true`.\n",
      "[LightGBM] [Info] Total Bins 3238\n",
      "[LightGBM] [Info] Number of data points in the train set: 1314, number of used features: 163\n",
      "[LightGBM] [Info] Start training from score 12.026165\n",
      "LightGBM - Training completed in 5.93 seconds.\n",
      "--------------------------------------------------\n",
      "Training XGBoost...\n",
      "XGBoost - Training completed in 2.39 seconds.\n",
      "--------------------------------------------------\n"
     ]
    },
    {
     "data": {
      "text/html": [
       "<div>\n",
       "<style scoped>\n",
       "    .dataframe tbody tr th:only-of-type {\n",
       "        vertical-align: middle;\n",
       "    }\n",
       "\n",
       "    .dataframe tbody tr th {\n",
       "        vertical-align: top;\n",
       "    }\n",
       "\n",
       "    .dataframe thead th {\n",
       "        text-align: right;\n",
       "    }\n",
       "</style>\n",
       "<table border=\"1\" class=\"dataframe\">\n",
       "  <thead>\n",
       "    <tr style=\"text-align: right;\">\n",
       "      <th></th>\n",
       "      <th>Model</th>\n",
       "      <th>Mean RMSE</th>\n",
       "      <th>Std RMSE</th>\n",
       "      <th>Training Time (s)</th>\n",
       "    </tr>\n",
       "  </thead>\n",
       "  <tbody>\n",
       "    <tr>\n",
       "      <th>3</th>\n",
       "      <td>SVR</td>\n",
       "      <td>0.123208</td>\n",
       "      <td>0.022918</td>\n",
       "      <td>0.597942</td>\n",
       "    </tr>\n",
       "    <tr>\n",
       "      <th>1</th>\n",
       "      <td>Lasso</td>\n",
       "      <td>0.127197</td>\n",
       "      <td>0.028523</td>\n",
       "      <td>1.914059</td>\n",
       "    </tr>\n",
       "    <tr>\n",
       "      <th>2</th>\n",
       "      <td>ElasticNet</td>\n",
       "      <td>0.127372</td>\n",
       "      <td>0.028488</td>\n",
       "      <td>2.228375</td>\n",
       "    </tr>\n",
       "    <tr>\n",
       "      <th>0</th>\n",
       "      <td>Ridge</td>\n",
       "      <td>0.127381</td>\n",
       "      <td>0.030866</td>\n",
       "      <td>1.485419</td>\n",
       "    </tr>\n",
       "    <tr>\n",
       "      <th>6</th>\n",
       "      <td>LightGBM</td>\n",
       "      <td>0.128994</td>\n",
       "      <td>0.019726</td>\n",
       "      <td>5.926607</td>\n",
       "    </tr>\n",
       "    <tr>\n",
       "      <th>5</th>\n",
       "      <td>GradientBoostingRegressor</td>\n",
       "      <td>0.129120</td>\n",
       "      <td>0.021801</td>\n",
       "      <td>3.972504</td>\n",
       "    </tr>\n",
       "    <tr>\n",
       "      <th>7</th>\n",
       "      <td>XGBoost</td>\n",
       "      <td>0.142119</td>\n",
       "      <td>0.018606</td>\n",
       "      <td>2.387853</td>\n",
       "    </tr>\n",
       "    <tr>\n",
       "      <th>4</th>\n",
       "      <td>RandomForest</td>\n",
       "      <td>0.142213</td>\n",
       "      <td>0.022620</td>\n",
       "      <td>10.483357</td>\n",
       "    </tr>\n",
       "  </tbody>\n",
       "</table>\n",
       "</div>"
      ],
      "text/plain": [
       "                       Model  Mean RMSE  Std RMSE  Training Time (s)\n",
       "3                        SVR   0.123208  0.022918           0.597942\n",
       "1                      Lasso   0.127197  0.028523           1.914059\n",
       "2                 ElasticNet   0.127372  0.028488           2.228375\n",
       "0                      Ridge   0.127381  0.030866           1.485419\n",
       "6                   LightGBM   0.128994  0.019726           5.926607\n",
       "5  GradientBoostingRegressor   0.129120  0.021801           3.972504\n",
       "7                    XGBoost   0.142119  0.018606           2.387853\n",
       "4               RandomForest   0.142213  0.022620          10.483357"
      ]
     },
     "execution_count": 6,
     "metadata": {},
     "output_type": "execute_result"
    }
   ],
   "source": [
    "results = {}\n",
    "scoring = 'neg_mean_squared_error'\n",
    "models = {\n",
    "    'Ridge': ridge,\n",
    "    'Lasso': lasso,\n",
    "    'ElasticNet': elasticnet,\n",
    "    'SVR': svr,\n",
    "    'RandomForest': rfr,\n",
    "    'GradientBoostingRegressor': gbr,\n",
    "    'LightGBM': lightgbm,\n",
    "    'XGBoost': xgboost\n",
    "}\n",
    "\n",
    "for name, model in models.items():\n",
    "    print(f\"Training {name}...\")\n",
    "    start_time = time.time()\n",
    "    scores = cross_val_score(model, features, target_transformed, cv=kfolds, scoring=scoring)\n",
    "    \n",
    "    rmse_scores = np.sqrt(-scores)\n",
    "    mean_rmse = np.mean(rmse_scores)\n",
    "    std_rmse = np.std(rmse_scores)\n",
    "    training_time = time.time() - start_time\n",
    "    \n",
    "    results[name] = {\n",
    "        'Mean RMSE': mean_rmse,\n",
    "        'Std RMSE': std_rmse,\n",
    "        'Training Time (s)': training_time\n",
    "    }\n",
    "    \n",
    "    print(f\"{name} - Training completed in {training_time:.2f} seconds.\")\n",
    "    print(\"-\" * 50)\n",
    "\n",
    "results_df = pd.DataFrame(results).T.reset_index()\n",
    "results_df.columns = ['Model', 'Mean RMSE', 'Std RMSE', 'Training Time (s)']\n",
    "results_df.sort_values(by='Mean RMSE')"
   ]
  },
  {
   "cell_type": "markdown",
   "metadata": {},
   "source": [
    "## Next Steps\n",
    "- Initial modelling of data is promising, all models perform reasonable well on data\n",
    "- There is lots of possibility for feature engineering\n",
    "- Models need hyperparameter tuning\n",
    "- I'm not well educated on the topic but combining predictions from several models or using a stacking algorithm could further improve performance"
   ]
  },
  {
   "cell_type": "code",
   "execution_count": null,
   "metadata": {},
   "outputs": [
    {
     "name": "stdout",
     "output_type": "stream",
     "text": [
      "[LightGBM] [Warning] Found whitespace in feature_names, replace with underlines\n",
      "[LightGBM] [Info] Auto-choosing row-wise multi-threading, the overhead of testing was 0.004027 seconds.\n",
      "You can set `force_row_wise=true` to remove the overhead.\n",
      "And if memory is not enough, you can set `force_col_wise=true`.\n",
      "[LightGBM] [Info] Total Bins 3414\n",
      "[LightGBM] [Info] Number of data points in the train set: 1460, number of used features: 165\n",
      "[LightGBM] [Info] Start training from score 12.024057\n"
     ]
    },
    {
     "data": {
      "text/html": [
       "<div>\n",
       "<style scoped>\n",
       "    .dataframe tbody tr th:only-of-type {\n",
       "        vertical-align: middle;\n",
       "    }\n",
       "\n",
       "    .dataframe tbody tr th {\n",
       "        vertical-align: top;\n",
       "    }\n",
       "\n",
       "    .dataframe thead th {\n",
       "        text-align: right;\n",
       "    }\n",
       "</style>\n",
       "<table border=\"1\" class=\"dataframe\">\n",
       "  <thead>\n",
       "    <tr style=\"text-align: right;\">\n",
       "      <th></th>\n",
       "      <th>Id</th>\n",
       "      <th>SalePrice</th>\n",
       "    </tr>\n",
       "  </thead>\n",
       "  <tbody>\n",
       "    <tr>\n",
       "      <th>0</th>\n",
       "      <td>1461</td>\n",
       "      <td>136561.881733</td>\n",
       "    </tr>\n",
       "    <tr>\n",
       "      <th>1</th>\n",
       "      <td>1462</td>\n",
       "      <td>146569.937857</td>\n",
       "    </tr>\n",
       "    <tr>\n",
       "      <th>2</th>\n",
       "      <td>1463</td>\n",
       "      <td>161640.295790</td>\n",
       "    </tr>\n",
       "    <tr>\n",
       "      <th>3</th>\n",
       "      <td>1464</td>\n",
       "      <td>167950.781224</td>\n",
       "    </tr>\n",
       "    <tr>\n",
       "      <th>4</th>\n",
       "      <td>1465</td>\n",
       "      <td>205669.681839</td>\n",
       "    </tr>\n",
       "  </tbody>\n",
       "</table>\n",
       "</div>"
      ],
      "text/plain": [
       "     Id      SalePrice\n",
       "0  1461  136561.881733\n",
       "1  1462  146569.937857\n",
       "2  1463  161640.295790\n",
       "3  1464  167950.781224\n",
       "4  1465  205669.681839"
      ]
     },
     "execution_count": 24,
     "metadata": {},
     "output_type": "execute_result"
    }
   ],
   "source": [
    "lightgbm.fit(features, target_transformed)\n",
    "scaled_predictions = np.expm1(lightgbm.predict(test))\n",
    "submission = pd.DataFrame({\n",
    "    'Id': list(range(1461, 2920)),\n",
    "    'SalePrice': scaled_predictions\n",
    "})\n",
    "submission.head()"
   ]
  },
  {
   "cell_type": "code",
   "execution_count": 26,
   "metadata": {},
   "outputs": [],
   "source": [
    "submission.to_csv('first_submission_lgbm.csv', index=False)"
   ]
  }
 ],
 "metadata": {
  "kernelspec": {
   "display_name": "base",
   "language": "python",
   "name": "python3"
  },
  "language_info": {
   "codemirror_mode": {
    "name": "ipython",
    "version": 3
   },
   "file_extension": ".py",
   "mimetype": "text/x-python",
   "name": "python",
   "nbconvert_exporter": "python",
   "pygments_lexer": "ipython3",
   "version": "3.12.7"
  }
 },
 "nbformat": 4,
 "nbformat_minor": 2
}
