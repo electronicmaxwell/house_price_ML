{
 "cells": [
  {
   "cell_type": "markdown",
   "metadata": {},
   "source": [
    "# Initial Modelling for Ames Iowa Housing Dataset\n",
    "\n",
    "## Goals\n",
    "- Train models with minimally processed dataset to get understand of baseline performance\n",
    "- Identify which models seem more promising for given dataset"
   ]
  },
  {
   "cell_type": "markdown",
   "metadata": {},
   "source": []
  }
 ],
 "metadata": {
  "language_info": {
   "name": "python"
  }
 },
 "nbformat": 4,
 "nbformat_minor": 2
}
